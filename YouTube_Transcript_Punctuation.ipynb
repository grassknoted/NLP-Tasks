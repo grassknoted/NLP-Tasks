{
 "cells": [
  {
   "cell_type": "markdown",
   "metadata": {},
   "source": [
    "# NLP Task"
   ]
  },
  {
   "cell_type": "markdown",
   "metadata": {},
   "source": [
    "## 0. Install Requirements (uncomment as required)"
   ]
  },
  {
   "cell_type": "code",
   "execution_count": 1,
   "metadata": {},
   "outputs": [],
   "source": [
    "import sys\n",
    "#!{sys.executable} -m pip install numpy\n",
    "#!{sys.executable} -m pip install youtube_transcript_api\n",
    "#!{sys.executable} -m pip install deepsegment\n",
    "#!{sys.executable} -m pip install fastpunct"
   ]
  },
  {
   "cell_type": "markdown",
   "metadata": {},
   "source": [
    "## 1. Get YouTube video Transcript"
   ]
  },
  {
   "cell_type": "code",
   "execution_count": 2,
   "metadata": {
    "scrolled": true
   },
   "outputs": [
    {
     "name": "stdout",
     "output_type": "stream",
     "text": [
      "Enter YouTube Video ID: \n"
     ]
    }
   ],
   "source": [
    "a = input(\"Enter YouTube Video ID: \")"
   ]
  },
  {
   "cell_type": "code",
   "execution_count": 3,
   "metadata": {},
   "outputs": [],
   "source": [
    "if a == \"\":\n",
    "    # default value if no input is given by the user\n",
    "    video_id = \"eIho2S0ZahI\"\n",
    "else:\n",
    "    video_id = a"
   ]
  },
  {
   "cell_type": "code",
   "execution_count": 4,
   "metadata": {},
   "outputs": [],
   "source": [
    "import youtube_transcript_api\n",
    "from youtube_transcript_api import YouTubeTranscriptApi"
   ]
  },
  {
   "cell_type": "markdown",
   "metadata": {},
   "source": [
    "## 2. Aggregate YouTube Transcript "
   ]
  },
  {
   "cell_type": "code",
   "execution_count": 5,
   "metadata": {},
   "outputs": [],
   "source": [
    "try:\n",
    "    unrefined_transcript = YouTubeTranscriptApi.get_transcript(video_id)\n",
    "    refined_transcript = \"\"\n",
    "\n",
    "    for line in unrefined_transcript:\n",
    "        refined_transcript += line['text'] + \" \"\n",
    "        \n",
    "except:\n",
    "    print(\"YouTube Transctipt API Exception. (The video most likeyly doesn't have subtitles enabled).\")"
   ]
  },
  {
   "cell_type": "markdown",
   "metadata": {},
   "source": [
    "## 3. a) Segment Transcript to fit within the maximum sentence length (512 characters)"
   ]
  },
  {
   "cell_type": "code",
   "execution_count": 6,
   "metadata": {},
   "outputs": [
    {
     "name": "stderr",
     "output_type": "stream",
     "text": [
      "Using TensorFlow backend.\n",
      "/home/akash/anaconda3/envs/tf_gpu/lib/python3.6/site-packages/tensorflow/python/framework/dtypes.py:523: FutureWarning: Passing (type, 1) or '1type' as a synonym of type is deprecated; in a future version of numpy, it will be understood as (type, (1,)) / '(1,)type'.\n",
      "  _np_qint8 = np.dtype([(\"qint8\", np.int8, 1)])\n",
      "/home/akash/anaconda3/envs/tf_gpu/lib/python3.6/site-packages/tensorflow/python/framework/dtypes.py:524: FutureWarning: Passing (type, 1) or '1type' as a synonym of type is deprecated; in a future version of numpy, it will be understood as (type, (1,)) / '(1,)type'.\n",
      "  _np_quint8 = np.dtype([(\"quint8\", np.uint8, 1)])\n",
      "/home/akash/anaconda3/envs/tf_gpu/lib/python3.6/site-packages/tensorflow/python/framework/dtypes.py:525: FutureWarning: Passing (type, 1) or '1type' as a synonym of type is deprecated; in a future version of numpy, it will be understood as (type, (1,)) / '(1,)type'.\n",
      "  _np_qint16 = np.dtype([(\"qint16\", np.int16, 1)])\n",
      "/home/akash/anaconda3/envs/tf_gpu/lib/python3.6/site-packages/tensorflow/python/framework/dtypes.py:526: FutureWarning: Passing (type, 1) or '1type' as a synonym of type is deprecated; in a future version of numpy, it will be understood as (type, (1,)) / '(1,)type'.\n",
      "  _np_quint16 = np.dtype([(\"quint16\", np.uint16, 1)])\n",
      "/home/akash/anaconda3/envs/tf_gpu/lib/python3.6/site-packages/tensorflow/python/framework/dtypes.py:527: FutureWarning: Passing (type, 1) or '1type' as a synonym of type is deprecated; in a future version of numpy, it will be understood as (type, (1,)) / '(1,)type'.\n",
      "  _np_qint32 = np.dtype([(\"qint32\", np.int32, 1)])\n",
      "/home/akash/anaconda3/envs/tf_gpu/lib/python3.6/site-packages/tensorflow/python/framework/dtypes.py:532: FutureWarning: Passing (type, 1) or '1type' as a synonym of type is deprecated; in a future version of numpy, it will be understood as (type, (1,)) / '(1,)type'.\n",
      "  np_resource = np.dtype([(\"resource\", np.ubyte, 1)])\n",
      "WARNING:root:Tensorflow serving is not installed. Cannot be used with tesnorflow serving docker images.\n",
      "WARNING:root:Run pip install tensorflow-serving-api==1.12.0 if you want to use with tf serving.\n",
      "WARNING:root:Using default n_window=10. Set this parameter based on your data.\n",
      "WARNING:root:Consider using segment_long for longer sentences.\n",
      "WARNING:root:Consider using segment_long for longer sentences.\n",
      "WARNING:root:Consider using segment_long for longer sentences.\n",
      "WARNING:root:Consider using segment_long for longer sentences.\n",
      "WARNING:root:Consider using segment_long for longer sentences.\n",
      "WARNING:root:Consider using segment_long for longer sentences.\n",
      "WARNING:root:Consider using segment_long for longer sentences.\n",
      "WARNING:root:Consider using segment_long for longer sentences.\n",
      "WARNING:root:Consider using segment_long for longer sentences.\n",
      "WARNING:root:Consider using segment_long for longer sentences.\n",
      "WARNING:root:Consider using segment_long for longer sentences.\n"
     ]
    }
   ],
   "source": [
    "from deepsegment import DeepSegment\n",
    "\n",
    "segmenter = DeepSegment('en')\n",
    "list_of_sentences = segmenter.segment_long(refined_transcript)"
   ]
  },
  {
   "cell_type": "markdown",
   "metadata": {},
   "source": [
    "## 3. b) Add Punctuations using FastPunct"
   ]
  },
  {
   "cell_type": "code",
   "execution_count": 7,
   "metadata": {
    "scrolled": false
   },
   "outputs": [
    {
     "name": "stderr",
     "output_type": "stream",
     "text": [
      "/home/akash/anaconda3/envs/tf_gpu/lib/python3.6/site-packages/torch/cuda/__init__.py:52: UserWarning: CUDA initialization: The NVIDIA driver on your system is too old (found version 9010). Please update your GPU driver by downloading and installing a new version from the URL: http://www.nvidia.com/Download/index.aspx Alternatively, go to: https://pytorch.org to install a PyTorch version that has been compiled with your version of the CUDA driver. (Triggered internally at  /pytorch/c10/cuda/CUDAFunctions.cpp:109.)\n",
      "  return torch._C._cuda_getDeviceCount() > 0\n",
      "I0514 01:36:06.251214 139858425243456 fastpunct.py:55] Warming up\n"
     ]
    }
   ],
   "source": [
    "import numpy\n",
    "from fastpunct import FastPunct\n",
    "\n",
    "fastpunct = FastPunct()\n",
    "list_of_senntences = fastpunct.punct(list_of_sentences)"
   ]
  },
  {
   "cell_type": "markdown",
   "metadata": {},
   "source": [
    "## Final Transcript:"
   ]
  },
  {
   "cell_type": "code",
   "execution_count": 8,
   "metadata": {},
   "outputs": [
    {
     "name": "stdout",
     "output_type": "stream",
     "text": [
      "The human voice: It's the instrument we all play. It's the most powerful sound in the world, probably. It's the only one that can start a war or say \"I love you.\" And yet many people have the experience that when they speak, people don't listen to them. And why is that? How can we speak powerfully to make change in the world? What I'd like to suggest, there are a number of habits that we need to move away from. I've assembled for your pleasure here seven deadly sins of speaking. I'm not pretending this is an exhaustive list, but these seven, I think, are pretty large habits that we can all fall into. First, gossip. Speaking ill of somebody who's not present. Not a nice habit, and we know perfectly well the person gossiping, five minutes later, will be gossiping about us. Second, judging. We know people who are like this in conversation, and it's very hard to listen to somebody if you know that you're being judged and found wanting at the same time. Third, negativity. You can fall into this. My mother, in the last years of her life, became very negative, and it's hard to listen. I remember one day, I said to her, \"It's October 1 today,\" and she said, \"I know, isn't it dreadful?\" (Laughter) It's hard to listen when somebody's that negative. (Laughter) And another form of negativity, complaining. Well, this is the national art of the U.K. It's our national sport. We complain about the weather, sport, about politics, about everything, but actually, complaining is viral misery. It's not spreading sunshine and lightness in the world. Excuses. We've all met this guy. Maybe we've all been this guy. Some people have a blamethrower. They just pass it on to everybody else and don't take responsibility for their actions, and again, hard to listen to somebody who is being like that. Penultimate, the sixth of the seven, embroidery, exaggeration. It demeans our language, actually, sometimes. For example, if I see something that really is awesome, what do I call it? (Laughter) And then, of course, this exaggeration becomes lying, and we don't want to listen to people we know are lying to us. And finally, dogmatism. The confusion of facts with opinions. When those two things get conflated, you're listening into the wind. You know, somebody is bombarding you with their opinions as if they were true. It's difficult to listen to that. So here they are, seven deadly sins of speaking. These are things I think we need to avoid. But is there a positive way to think about this? Yes, there is. I'd like to suggest that there are four really powerful cornerstones, foundations, that we can stand on if we want our speech to be powerful and to make change in the world. Fortunately, these things spell a word. The word is \"hail,\" and it has a great definition as well. I'm not talking about the stuff that falls from the sky and hits you on the head. I'm talking about this definition, to greet or acclaim enthusiastically, which is how I think our words will be received if we stand on these four things. So what do they stand for? See if you can guess. The H, honesty, of course, being true in what you say, being straight and clear. The A is authenticity, just being yourself. A friend of mine described it as standing in your own truth, which I think is a lovely way to put it. The I is integrity, being your word, actually doing what you say, and being somebody people can trust. And the L is love. I don't mean romantic love, but I do mean wishing people well, for two reasons. First of all, I think absolute honesty may not be what we want. I mean, my goodness, you look ugly this morning. Perhaps that's not necessary. Tempered with love, of course, honesty is a great thing. But also, if you're really wishing somebody well, it's very hard to judge them at the same time. I'm not even sure you can do those two things simultaneously. So hail. Also, now that's what you say, and it's like the old song, it is what you say, it's also the way that you say it. You have an amazing toolbox. This instrument is incredible, and yet this is a toolbox that very few people have ever opened. I'd like to have a little rummage in there with you now and just pull a few tools out that you might like to take away and play with, which will increase the power of your speaking. Register, for example. Now, falsetto register may not be very useful most of the time, but there's a register in between. I'm not going to get very technical about this for any of you who are voice coaches. You can locate your voice, however. So if I talk up here in my nose, you can hear the difference. If I go down here in my throat, which is where most of us speak from most of the time. But if you want weight, you need to go down here to the chest. You hear the difference? We vote for politicians with lower voices, it's true, because we associate depth with power and with authority. That's register. Then we have timbre. It's the way your voice feels. Again, the research shows that we prefer voices which are rich, smooth, warm, like hot chocolate. Well if that's not you, that's not the end of the world, because you can train. Go and get a voice coach. And there are amazing things you can do with breathing, with posture, and with exercises to improve the timbre of your voice. Then prosody. I love prosody. This is the sing-song, the meta-language that we use in order to impart meaning. It's root one for meaning in conversation. People who speak all on one note are really quite hard to listen to if they don't have any prosody at all. That's where the word \"monotonic\" comes from, or monotonous, monotone. Also, we have repetitive prosody now coming in, where every sentence ends as if it were a question when it's actually not a question, it's a statement? (Laughter) And if you repeat that one, it's actually restricting your ability to communicate through prosody, which I think is a shame, so let's try and break that habit. Pace. I can get very excited by saying something really quickly, or I can slow right down to emphasize, and at the end of that, of course, is our old friend silence. There's nothing wrong with a bit of silence in a talk, is there? We don't have to fill it with ums and ahs. It can be very powerful. Of course, pitch often goes along with pace to indicate arousal, but you can do it just with pitch. Where did you leave my keys? (Higher pitch) Where did you leave my keys? So, slightly different meaning in those two deliveries. And finally, volume. (Loud) I can get really excited by using volume. Sorry about that, if I startled anybody. Or, I can have you really pay attention by getting very quiet. Some people broadcast the whole time. Try not to do that. That's called sodcasting, (Laughter) Imposing your sound on people around you carelessly and inconsiderately. Not nice. Of course, where this all comes into play most of all is when you've got something really important to do. It might be standing on a stage like this and giving a talk to people. It might be proposing marriage, asking for a raise, a wedding speech. Whatever it is, if it's really important, you owe it to yourself to look at this toolbox and the engine that it's going to work on, and no engine works well without being warmed up. Warm up your voice. Actually, let me show you how to do that. Would you all like to stand up for a moment? I'm going to show you the six vocal warm-up exercises that I do before every talk I ever do. Any time you're going to talk to anybody important, do these. First, arms up, deep breath in, and sigh out, ahhhhh, like that. One more time. Ahhhh, very good. Now we're going to warm up our lips, and we're going to go Ba, Ba, Ba, Ba, Ba, Ba, Ba, Ba. Very good. And now, brrrrrrrrrr, just like when you were a kid. Brrrr. Now your lips should be coming alive. We're going to do the tongue next with exaggerated la, la, la, la, la, la, la, la, la. Beautiful. You're getting really good at this. And then, roll an R. Rrrrrrr. That's like champagne for the tongue. Finally, and if I can only do one, the pros call this the siren. It's really good. It starts with \"we\" and goes to \"aw.\" The \"we\" is high, the \"aw\" is low. So you go, weeeaawww, weeeaawww. Fantastic. Give yourselves a round of applause. Take a seat, thank you. (Applause) Next time you speak, do those in advance. Now let me just put this in context to close. This is a serious point here. This is where we are now, right? We speak not very well to people who simply aren't listening in an environment that's all about noise and bad acoustics. I have talked about that on this stage in different phases. What would the world be like if we were speaking powerfully to people who were listening consciously in environments which were actually fit for purpose? Or to make that a bit larger, what would the world be like if we were creating sound consciously and consuming sound consciously and designing all our environments consciously for sound? That would be a world that does sound beautiful, and one where understanding would be the norm, and that is an idea worth spreading. Thank you. (Applause)\n"
     ]
    }
   ],
   "source": [
    "final_transcript = \" \".join(list_of_sentences)\n",
    "print(final_transcript)"
   ]
  },
  {
   "cell_type": "markdown",
   "metadata": {},
   "source": [
    "### References:\n",
    "- DeepSegment: https://github.com/notAI-tech/deepsegment\n",
    "- FastPunct: https://github.com/notAI-tech/fastpunct"
   ]
  }
 ],
 "metadata": {
  "kernelspec": {
   "display_name": "Python 3",
   "language": "python",
   "name": "python3"
  },
  "language_info": {
   "codemirror_mode": {
    "name": "ipython",
    "version": 3
   },
   "file_extension": ".py",
   "mimetype": "text/x-python",
   "name": "python",
   "nbconvert_exporter": "python",
   "pygments_lexer": "ipython3",
   "version": "3.6.8"
  }
 },
 "nbformat": 4,
 "nbformat_minor": 2
}
